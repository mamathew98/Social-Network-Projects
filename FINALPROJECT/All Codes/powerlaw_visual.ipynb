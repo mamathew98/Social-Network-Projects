{
 "cells": [
  {
   "cell_type": "markdown",
   "metadata": {},
   "source": [
    "## Import Libraries"
   ]
  },
  {
   "cell_type": "code",
   "execution_count": 10,
   "metadata": {},
   "outputs": [],
   "source": [
    "from collections import Counter\n",
    "import pandas as pd\n",
    "import numpy as np\n",
    "import matplotlib.pyplot as plt\n",
    "import powerlaw\n",
    "import numpy as np\n",
    "import pandas as pd\n",
    "import scipy\n",
    "import scipy.stats as st\n",
    "import seaborn as sns\n",
    "from fitter import Fitter, get_common_distributions, get_distributions"
   ]
  },
  {
   "cell_type": "markdown",
   "metadata": {},
   "source": [
    "## Load Data"
   ]
  },
  {
   "cell_type": "code",
   "execution_count": 11,
   "metadata": {},
   "outputs": [
    {
     "data": {
      "text/html": [
       "<div>\n",
       "<style scoped>\n",
       "    .dataframe tbody tr th:only-of-type {\n",
       "        vertical-align: middle;\n",
       "    }\n",
       "\n",
       "    .dataframe tbody tr th {\n",
       "        vertical-align: top;\n",
       "    }\n",
       "\n",
       "    .dataframe thead th {\n",
       "        text-align: right;\n",
       "    }\n",
       "</style>\n",
       "<table border=\"1\" class=\"dataframe\">\n",
       "  <thead>\n",
       "    <tr style=\"text-align: right;\">\n",
       "      <th></th>\n",
       "      <th>Id</th>\n",
       "      <th>Label</th>\n",
       "      <th>timeset</th>\n",
       "      <th>modularity_class</th>\n",
       "      <th>componentnumber</th>\n",
       "      <th>Degree</th>\n",
       "    </tr>\n",
       "  </thead>\n",
       "  <tbody>\n",
       "    <tr>\n",
       "      <th>0</th>\n",
       "      <td>0</td>\n",
       "      <td>aa</td>\n",
       "      <td>NaN</td>\n",
       "      <td>0</td>\n",
       "      <td>0</td>\n",
       "      <td>2</td>\n",
       "    </tr>\n",
       "    <tr>\n",
       "      <th>1</th>\n",
       "      <td>1</td>\n",
       "      <td>aaa</td>\n",
       "      <td>NaN</td>\n",
       "      <td>3348</td>\n",
       "      <td>1</td>\n",
       "      <td>7</td>\n",
       "    </tr>\n",
       "    <tr>\n",
       "      <th>2</th>\n",
       "      <td>2</td>\n",
       "      <td>aaafivediamond</td>\n",
       "      <td>NaN</td>\n",
       "      <td>7377</td>\n",
       "      <td>1</td>\n",
       "      <td>3</td>\n",
       "    </tr>\n",
       "    <tr>\n",
       "      <th>3</th>\n",
       "      <td>3</td>\n",
       "      <td>aaanews</td>\n",
       "      <td>NaN</td>\n",
       "      <td>7377</td>\n",
       "      <td>1</td>\n",
       "      <td>3</td>\n",
       "    </tr>\n",
       "    <tr>\n",
       "      <th>4</th>\n",
       "      <td>4</td>\n",
       "      <td>aacrowellt</td>\n",
       "      <td>NaN</td>\n",
       "      <td>1</td>\n",
       "      <td>2</td>\n",
       "      <td>2</td>\n",
       "    </tr>\n",
       "  </tbody>\n",
       "</table>\n",
       "</div>"
      ],
      "text/plain": [
       "   Id           Label  timeset  modularity_class  componentnumber  Degree\n",
       "0   0              aa      NaN                 0                0       2\n",
       "1   1             aaa      NaN              3348                1       7\n",
       "2   2  aaafivediamond      NaN              7377                1       3\n",
       "3   3         aaanews      NaN              7377                1       3\n",
       "4   4      aacrowellt      NaN                 1                2       2"
      ]
     },
     "execution_count": 11,
     "metadata": {},
     "output_type": "execute_result"
    }
   ],
   "source": [
    "df = pd.read_csv('degree.csv')\n",
    "df.head()"
   ]
  },
  {
   "cell_type": "markdown",
   "metadata": {},
   "source": [
    "## PDF Linear plot"
   ]
  },
  {
   "cell_type": "code",
   "execution_count": 12,
   "metadata": {},
   "outputs": [
    {
     "data": {
      "image/png": "[encoded data removed]",
      "text/plain": [
       "<Figure size 432x288 with 1 Axes>"
      ]
     },
     "metadata": {
      "needs_background": "light"
     },
     "output_type": "display_data"
    }
   ],
   "source": [
    "def vis_pdf_Lin():\n",
    "    degrees = df[\"Degree\"]\n",
    "    data = list(degrees)\n",
    "    ####\n",
    "    fit = powerlaw.Fit(data, discrete=True, xmin=1)\n",
    "\n",
    "    figPDF = powerlaw.plot_pdf([x for x in data if x != 0], color='b')\n",
    "    # powerlaw.plot_pdf(data, linear_bins=True, color='r', ax=figPDF)\n",
    "    fit.power_law.plot_pdf(color='r', linestyle='--', ax=figPDF)\n",
    "\n",
    "    ####\n",
    "    figPDF.set_ylabel(\"p(k)\")\n",
    "    figPDF.set_xlabel(r\"Degree\")\n",
    "    plt.title(\"PDF Linear of Degree\")\n",
    "    plt.show()\n",
    "\n",
    "vis_pdf_Lin()"
   ]
  },
  {
   "cell_type": "markdown",
   "metadata": {},
   "source": [
    "## PDF binning plot"
   ]
  },
  {
   "cell_type": "code",
   "execution_count": 13,
   "metadata": {},
   "outputs": [
    {
     "data": {
      "image/png": "[encoded data removed]",
      "text/plain": [
       "<Figure size 432x288 with 1 Axes>"
      ]
     },
     "metadata": {
      "needs_background": "light"
     },
     "output_type": "display_data"
    }
   ],
   "source": [
    "def vis_pdf_Bin():\n",
    "    degrees = df[\"Degree\"]\n",
    "    data = list(degrees)\n",
    "    ####\n",
    "    fit = powerlaw.Fit(data, discrete=True, xmin=1)\n",
    "\n",
    "    # figPDF = powerlaw.plot_pdf(data, color='b')\n",
    "    figPDF = powerlaw.plot_pdf([x for x in data if x != 0], linear_bins=True, color='b')\n",
    "    fit.power_law.plot_pdf(color='r', linestyle='--', ax=figPDF)\n",
    "\n",
    "    ####\n",
    "    figPDF.set_ylabel(\"p(k)\")\n",
    "    figPDF.set_xlabel(r\"views\")\n",
    "    plt.title(\"PDF Linear Binning of views\")\n",
    "    plt.show()\n",
    "\n",
    "vis_pdf_Bin()"
   ]
  },
  {
   "cell_type": "markdown",
   "metadata": {},
   "source": [
    "# CDF plot"
   ]
  },
  {
   "cell_type": "code",
   "execution_count": 14,
   "metadata": {},
   "outputs": [
    {
     "data": {
      "image/png": "[encoded data removed]",
      "text/plain": [
       "<Figure size 432x288 with 1 Axes>"
      ]
     },
     "metadata": {
      "needs_background": "light"
     },
     "output_type": "display_data"
    }
   ],
   "source": [
    "def vis_cdf():\n",
    "    degrees = df[\"Degree\"]\n",
    "    data = list(degrees)\n",
    "    ####\n",
    "    fit = powerlaw.Fit(data, discrete=True, xmin=1)\n",
    "    # figPDF = powerlaw.plot_pdf(data, color='b')\n",
    "    figCCDF = powerlaw.plot_ccdf([x for x in data if x != 0], color='g')\n",
    "    fit.power_law.plot_ccdf(color='r', linestyle='--', ax=figCCDF)\n",
    "    ####\n",
    "    figCCDF.set_ylabel(\"p(k)\")\n",
    "    figCCDF.set_xlabel(r\"views\")\n",
    "    plt.title(\"CCDF of views\")\n",
    "    plt.show()\n",
    "\n",
    "vis_cdf()\n",
    "  "
   ]
  }
 ],
 "metadata": {
  "interpreter": {
   "hash": "07efdcd4b820c98a756949507a4d29d7862823915ec7477944641bea022f4f62"
  },
  "kernelspec": {
   "display_name": "Python 3.9.7 64-bit ('base': conda)",
   "language": "python",
   "name": "python3"
  },
  "language_info": {
   "codemirror_mode": {
    "name": "ipython",
    "version": 3
   },
   "file_extension": ".py",
   "mimetype": "text/x-python",
   "name": "python",
   "nbconvert_exporter": "python",
   "pygments_lexer": "ipython3",
   "version": "3.9.7"
  },
  "orig_nbformat": 4
 },
 "nbformat": 4,
 "nbformat_minor": 2
}
