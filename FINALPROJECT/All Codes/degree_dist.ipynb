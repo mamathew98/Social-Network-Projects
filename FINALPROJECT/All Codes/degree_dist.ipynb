{
 "cells": [
  {
   "cell_type": "markdown",
   "metadata": {},
   "source": [
    "# PLotting Degree Distrbutions"
   ]
  },
  {
   "cell_type": "markdown",
   "metadata": {},
   "source": [
    "## Import Libraries"
   ]
  },
  {
   "cell_type": "code",
   "execution_count": 8,
   "metadata": {},
   "outputs": [],
   "source": [
    "from collections import Counter\n",
    "import pandas as pd\n",
    "import numpy as np\n",
    "import matplotlib.pyplot as plt\n",
    "import powerlaw\n",
    "import numpy as np\n",
    "import pandas as pd\n",
    "import scipy\n",
    "import scipy.stats as st\n",
    "import seaborn as sns\n",
    "from fitter import Fitter, get_common_distributions, get_distributions"
   ]
  },
  {
   "cell_type": "markdown",
   "metadata": {},
   "source": [
    "## Load Data"
   ]
  },
  {
   "cell_type": "code",
   "execution_count": 9,
   "metadata": {},
   "outputs": [
    {
     "data": {
      "text/html": [
       "<div>\n",
       "<style scoped>\n",
       "    .dataframe tbody tr th:only-of-type {\n",
       "        vertical-align: middle;\n",
       "    }\n",
       "\n",
       "    .dataframe tbody tr th {\n",
       "        vertical-align: top;\n",
       "    }\n",
       "\n",
       "    .dataframe thead th {\n",
       "        text-align: right;\n",
       "    }\n",
       "</style>\n",
       "<table border=\"1\" class=\"dataframe\">\n",
       "  <thead>\n",
       "    <tr style=\"text-align: right;\">\n",
       "      <th></th>\n",
       "      <th>Id</th>\n",
       "      <th>Label</th>\n",
       "      <th>timeset</th>\n",
       "      <th>modularity_class</th>\n",
       "      <th>componentnumber</th>\n",
       "      <th>Degree</th>\n",
       "    </tr>\n",
       "  </thead>\n",
       "  <tbody>\n",
       "    <tr>\n",
       "      <th>0</th>\n",
       "      <td>0</td>\n",
       "      <td>aa</td>\n",
       "      <td>NaN</td>\n",
       "      <td>0</td>\n",
       "      <td>0</td>\n",
       "      <td>2</td>\n",
       "    </tr>\n",
       "    <tr>\n",
       "      <th>1</th>\n",
       "      <td>1</td>\n",
       "      <td>aaa</td>\n",
       "      <td>NaN</td>\n",
       "      <td>3348</td>\n",
       "      <td>1</td>\n",
       "      <td>7</td>\n",
       "    </tr>\n",
       "    <tr>\n",
       "      <th>2</th>\n",
       "      <td>2</td>\n",
       "      <td>aaafivediamond</td>\n",
       "      <td>NaN</td>\n",
       "      <td>7377</td>\n",
       "      <td>1</td>\n",
       "      <td>3</td>\n",
       "    </tr>\n",
       "    <tr>\n",
       "      <th>3</th>\n",
       "      <td>3</td>\n",
       "      <td>aaanews</td>\n",
       "      <td>NaN</td>\n",
       "      <td>7377</td>\n",
       "      <td>1</td>\n",
       "      <td>3</td>\n",
       "    </tr>\n",
       "    <tr>\n",
       "      <th>4</th>\n",
       "      <td>4</td>\n",
       "      <td>aacrowellt</td>\n",
       "      <td>NaN</td>\n",
       "      <td>1</td>\n",
       "      <td>2</td>\n",
       "      <td>2</td>\n",
       "    </tr>\n",
       "  </tbody>\n",
       "</table>\n",
       "</div>"
      ],
      "text/plain": [
       "   Id           Label  timeset  modularity_class  componentnumber  Degree\n",
       "0   0              aa      NaN                 0                0       2\n",
       "1   1             aaa      NaN              3348                1       7\n",
       "2   2  aaafivediamond      NaN              7377                1       3\n",
       "3   3         aaanews      NaN              7377                1       3\n",
       "4   4      aacrowellt      NaN                 1                2       2"
      ]
     },
     "execution_count": 9,
     "metadata": {},
     "output_type": "execute_result"
    }
   ],
   "source": [
    "df = pd.read_csv('degree.csv')\n",
    "df.head()"
   ]
  },
  {
   "cell_type": "markdown",
   "metadata": {},
   "source": [
    "## Get Best distribution"
   ]
  },
  {
   "cell_type": "code",
   "execution_count": 10,
   "metadata": {},
   "outputs": [
    {
     "name": "stdout",
     "output_type": "stream",
     "text": [
      "p value for norm = 0.0\n"
     ]
    },
    {
     "name": "stderr",
     "output_type": "stream",
     "text": [
      "D:\\Anaconda\\lib\\site-packages\\scipy\\stats\\_continuous_distns.py:1726: RuntimeWarning: invalid value encountered in add\n",
      "  logp = (np.log(a) + np.log(c) + sc.xlogy(a - 1.0, exm1c) +\n"
     ]
    },
    {
     "name": "stdout",
     "output_type": "stream",
     "text": [
      "p value for exponweib = 0.0\n",
      "p value for weibull_max = 0.0\n",
      "p value for weibull_min = 0.0\n"
     ]
    },
    {
     "name": "stderr",
     "output_type": "stream",
     "text": [
      "D:\\Anaconda\\lib\\site-packages\\scipy\\stats\\_distn_infrastructure.py:2606: RuntimeWarning: invalid value encountered in double_scalars\n",
      "  Lhat = muhat - Shat*mu\n"
     ]
    },
    {
     "name": "stdout",
     "output_type": "stream",
     "text": [
      "p value for pareto = 0.0\n",
      "p value for genextreme = 0.0\n",
      "p value for powerlaw = 0.0\n",
      "Best fitting distribution: norm\n",
      "Best p value: 0.0\n",
      "Parameters for the best fit: (4.395538930451648, 7.089908066502718)\n"
     ]
    },
    {
     "data": {
      "text/plain": [
       "('norm', 0.0, (4.395538930451648, 7.089908066502718))"
      ]
     },
     "execution_count": 10,
     "metadata": {},
     "output_type": "execute_result"
    }
   ],
   "source": [
    "def get_best_distribution(data):\n",
    "    dist_names = [\"norm\", \"exponweib\", \"weibull_max\", \"weibull_min\", \"pareto\", \"genextreme\", \"powerlaw\"]\n",
    "    dist_results = []\n",
    "    params = {}\n",
    "    for dist_name in dist_names:\n",
    "        dist = getattr(st, dist_name)\n",
    "        param = dist.fit(data)\n",
    "\n",
    "        params[dist_name] = param\n",
    "        # Applying the Kolmogorov-Smirnov test\n",
    "        D, p = st.kstest(data, dist_name, args=param)\n",
    "        print(\"p value for \" + dist_name + \" = \" + str(p))\n",
    "        dist_results.append((dist_name, p))\n",
    "\n",
    "    # select the best fitted distribution\n",
    "    best_dist, best_p = (max(dist_results, key=lambda item: item[1]))\n",
    "    # store the name of the best fit and its p value\n",
    "\n",
    "    print(\"Best fitting distribution: \" + str(best_dist))\n",
    "    print(\"Best p value: \" + str(best_p))\n",
    "    print(\"Parameters for the best fit: \" + str(params[best_dist]))\n",
    "\n",
    "    return best_dist, best_p, params[best_dist]\n",
    "\n",
    "get_best_distribution(list(df[\"Degree\"]))"
   ]
  },
  {
   "cell_type": "markdown",
   "metadata": {},
   "source": [
    "## Linear Scale plot"
   ]
  },
  {
   "cell_type": "code",
   "execution_count": 11,
   "metadata": {},
   "outputs": [
    {
     "name": "stdout",
     "output_type": "stream",
     "text": [
      "Calculating best minimal value for power law fit\n",
      "2.4323388590205166\n"
     ]
    },
    {
     "data": {
      "image/png": "[encoded data removed]",
      "text/plain": [
       "<Figure size 432x288 with 1 Axes>"
      ]
     },
     "metadata": {
      "needs_background": "light"
     },
     "output_type": "display_data"
    }
   ],
   "source": [
    "def linear_scale():\n",
    "    # df = pd.read_csv('data.csv')\n",
    "    degrees = df[\"Degree\"]\n",
    "    fit = powerlaw.Fit(list(degrees), discrete=True)\n",
    "    gama = fit.power_law.alpha\n",
    "    print(gama)\n",
    "    degrees_dist = Counter(list(degrees))\n",
    "    x = []\n",
    "    y = []\n",
    "    y_fit = []\n",
    "    for deg in degrees_dist:\n",
    "        x.append(deg)\n",
    "        y.append(degrees_dist[deg] / len(degrees))\n",
    "        y_fit.append(deg ** (-gama))\n",
    "    plt.scatter(x, y, label=\"main\", c='b')\n",
    "    # plt.plot(x, y_fit, label=\"fit\", c=\"r\", linestyle=\"--\")\n",
    "    plt.title(\"Linear Scale Distribution plot\")\n",
    "    plt.ylabel(\"Pk\")\n",
    "    plt.xlabel(\"Degree\")\n",
    "    # plt.legend()\n",
    "    plt.show()\n",
    "\n",
    "linear_scale()"
   ]
  },
  {
   "cell_type": "markdown",
   "metadata": {},
   "source": [
    "## Linear Binning plot"
   ]
  },
  {
   "cell_type": "code",
   "execution_count": 12,
   "metadata": {},
   "outputs": [
    {
     "name": "stdout",
     "output_type": "stream",
     "text": [
      "Calculating best minimal value for power law fit\n",
      "xmin progress: 98%\r"
     ]
    },
    {
     "data": {
      "image/png": "[encoded data removed]",
      "text/plain": [
       "<Figure size 432x288 with 1 Axes>"
      ]
     },
     "metadata": {
      "needs_background": "light"
     },
     "output_type": "display_data"
    }
   ],
   "source": [
    "def linear_binning():\n",
    "    degrees = df[\"Degree\"]\n",
    "    fit = powerlaw.Fit(list(degrees), discrete=True)\n",
    "    gama = fit.power_law.alpha\n",
    "    degrees_dist = Counter(list(degrees))\n",
    "    x = []\n",
    "    y = []\n",
    "    y_fit = []\n",
    "\n",
    "    for deg in degrees_dist:\n",
    "        x.append(deg)\n",
    "        y.append(degrees_dist[deg] / len(degrees))\n",
    "        y_fit.append(deg ** (-gama))\n",
    "\n",
    "    plt.loglog(x, y, 'bo', label=\"label\")\n",
    "    plt.loglog(x, y_fit, label=\"fit\", c=\"r\", linestyle=\"--\")\n",
    "    plt.title(\"Linear Binning Distribution plot\")\n",
    "    plt.ylabel(\"Pk\")\n",
    "    plt.xlabel(\"Degree\")\n",
    "    plt.legend()\n",
    "    plt.show()\n",
    "\n",
    "linear_binning()"
   ]
  },
  {
   "cell_type": "markdown",
   "metadata": {},
   "source": [
    "## Log binning plot"
   ]
  },
  {
   "cell_type": "code",
   "execution_count": 13,
   "metadata": {},
   "outputs": [
    {
     "name": "stdout",
     "output_type": "stream",
     "text": [
      "Calculating best minimal value for power law fit\n",
      "xmin progress: 98%\r"
     ]
    },
    {
     "data": {
      "image/png": "[encoded data removed]",
      "text/plain": [
       "<Figure size 432x288 with 1 Axes>"
      ]
     },
     "metadata": {
      "needs_background": "light"
     },
     "output_type": "display_data"
    }
   ],
   "source": [
    "def log_binning():\n",
    "    degrees = df[\"Degree\"]\n",
    "    fit = powerlaw.Fit(list(degrees), discrete=True)\n",
    "    gama = fit.power_law.alpha\n",
    "    degrees_list = list(degrees)\n",
    "    bins = []\n",
    "    for n in range(int(np.log2(max(degrees_list)) + 1)):\n",
    "        b = [i for i in degrees_list if (2 ** n) <= i <= (2 ** (n + 1) - 1)]\n",
    "        bins.append(b)\n",
    "    lists = []\n",
    "    for i in range(len(bins)):\n",
    "        if len(bins[i]) == 0:\n",
    "            continue\n",
    "        k = sum(bins[i]) / len(bins[i])\n",
    "        p = len(bins[i]) / (2**i)\n",
    "        lists.append((k, p))\n",
    "    x, y = zip(*lists)\n",
    "    # y_fit = [(i ** (-gama)) for i in x]\n",
    "    ax = plt.gca()\n",
    "    ax.scatter(x, y)\n",
    "    # ax.plot(x, y_fit, label=\"test\", c='r')\n",
    "    ax.set_yscale('log')\n",
    "    ax.set_xscale('log')\n",
    "    plt.title(\"Log Binning Distribution plot\")\n",
    "    plt.ylabel(\"Pk\")\n",
    "    plt.xlabel(\"Degree\")\n",
    "    # plt.legend()\n",
    "    plt.show()\n",
    "\n",
    "log_binning()\n"
   ]
  },
  {
   "cell_type": "markdown",
   "metadata": {},
   "source": [
    "## Cumulative plot"
   ]
  },
  {
   "cell_type": "code",
   "execution_count": 14,
   "metadata": {},
   "outputs": [
    {
     "name": "stdout",
     "output_type": "stream",
     "text": [
      "Calculating best minimal value for power law fit\n",
      "9.313105334087624 1.2414844020517685e-20\n",
      "alpha: 2.4323388590205166\n",
      "xmin: 4.0\n",
      "xmax: None\n",
      "sigma: 0.02144037272486808\n",
      "D: 0.011462453611489232\n"
     ]
    },
    {
     "data": {
      "image/png": "[encoded data removed]",
      "text/plain": [
       "<Figure size 432x288 with 1 Axes>"
      ]
     },
     "metadata": {
      "needs_background": "light"
     },
     "output_type": "display_data"
    }
   ],
   "source": [
    "def cumulative():\n",
    "    degrees = df[\"Degree\"]\n",
    "    fit = powerlaw.Fit(list(degrees), discrete=True)\n",
    "    gama = fit.power_law.alpha\n",
    "    s = fit.power_law.sigma\n",
    "    R, p = fit.distribution_compare('power_law', 'exponential', normalized_ratio=True)\n",
    "    print(R, p)\n",
    "    print(\"alpha: \" + str(fit.power_law.alpha))\n",
    "    print(\"xmin: \" + str(fit.power_law.xmin))\n",
    "    print(\"xmax: \" + str(fit.power_law.xmax))\n",
    "    print(\"sigma: \" + str(fit.power_law.sigma))\n",
    "    print(\"D: \" + str(fit.power_law.D))\n",
    "    degree_sequence = sorted([d for d in list(degrees)], reverse=True)  # degree sequence\n",
    "    degreeCount = Counter(degree_sequence)\n",
    "    deg, cnt = zip(*degreeCount.items())\n",
    "    cs = np.cumsum(cnt) / len(degrees)\n",
    "    y_fit = [(x ** (-gama + 1)) for x in deg if x != 0]\n",
    "    plt.loglog(deg, cs, 'bo', label=\"main\")\n",
    "    plt.plot([x for x in deg if x != 0], y_fit, label=\"fit\", c=\"r\", linestyle=\"--\")\n",
    "    plt.title(\"Cumulative Distribution plot\")\n",
    "    plt.ylabel(\"Pk\")\n",
    "    plt.xlabel(\"Degree\")\n",
    "    plt.legend()\n",
    "    plt.show()\n",
    "\n",
    "cumulative()"
   ]
  }
 ],
 "metadata": {
  "interpreter": {
   "hash": "07efdcd4b820c98a756949507a4d29d7862823915ec7477944641bea022f4f62"
  },
  "kernelspec": {
   "display_name": "Python 3.9.7 64-bit ('base': conda)",
   "language": "python",
   "name": "python3"
  },
  "language_info": {
   "codemirror_mode": {
    "name": "ipython",
    "version": 3
   },
   "file_extension": ".py",
   "mimetype": "text/x-python",
   "name": "python",
   "nbconvert_exporter": "python",
   "pygments_lexer": "ipython3",
   "version": "3.9.7"
  },
  "orig_nbformat": 4
 },
 "nbformat": 4,
 "nbformat_minor": 2
}
